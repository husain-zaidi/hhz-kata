{
 "cells": [
  {
   "cell_type": "code",
   "execution_count": null,
   "metadata": {},
   "outputs": [],
   "source": [
    "Here is an example of how to implement the Newton-Raphson method in Python:\n",
    "\n",
    "```python\n",
    "def f(x):\n",
    "    return x**2 - 2\n",
    "\n",
    "def df(x):\n",
    "    return 2*x\n",
    "\n",
    "def newton_raphson(x0, tol):\n",
    "    x1 = x0 - f(x0)/df(x0)\n",
    "    while abs(x1 - x0) > tol:\n",
    "        x0 = x1\n",
    "        x1 = x0 - f(x0)/df(x0)\n",
    "    return x1\n",
    "\n",
    "# Example usage\n",
    "x0 = 1.5\n",
    "tol = 1e-6\n",
    "root = newton_raphson(x0, tol)\n",
    "print(root)\n",
    "```\n",
    "\n",
    "In this example, we define the function `f` and its derivative `df`. We then define the `newton_raphson` function that takes an initial guess `x0` and a tolerance `tol`. The function iteratively applies the Newton-Raphson formula until the error between successive approximations is less than the tolerance. Finally, we use this function to find the root of `f` starting from an initial guess of 1.5 with a tolerance of 1e-6.\n",
    "\n",
    "I hope this helps! Let me know if you have any other questions.\n",
    "\n",
    "Source: Conversation with Bing, 26/7/2023\n",
    "(1) Modelling the Newton Raphson Method in Python - Online Tutorials Library. https://bing.com/search?q=newton+raphson+method+python.\n",
    "(2) Newton-Raphson Method — Python Numerical Methods. https://pythonnumericalmethods.berkeley.edu/notebooks/chapter19.04-Newton-Raphson-Method.html.\n",
    "(3) Modelling the Newton Raphson Method in Python - Online Tutorials Library. https://www.tutorialspoint.com/modelling-the-newton-raphson-method-in-python.\n",
    "(4) Python Program Newton Raphson (NR) Method (with Output) - Codesansar. https://www.codesansar.com/numerical-methods/newton-raphson-method-python-program.htm.\n",
    "(5) scipy.optimize.newton — SciPy v1.11.1 Manual. https://docs.scipy.org/doc/scipy/reference/generated/scipy.optimize.newton.html."
   ]
  }
 ],
 "metadata": {
  "language_info": {
   "name": "python"
  },
  "orig_nbformat": 4
 },
 "nbformat": 4,
 "nbformat_minor": 2
}
