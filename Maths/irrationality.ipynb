{
 "cells": [
  {
   "cell_type": "code",
   "execution_count": 1,
   "metadata": {},
   "outputs": [
    {
     "name": "stdout",
     "output_type": "stream",
     "text": [
      "Hello maths\n"
     ]
    }
   ],
   "source": [
    "import math\n",
    "print(\"Hello maths\")"
   ]
  },
  {
   "attachments": {},
   "cell_type": "markdown",
   "metadata": {},
   "source": [
    "Pythagorean triplets:\n",
    "\n",
    "If a,b,c are coprime (have only 1 as a common divisor)\n",
    "\n",
    "```a**2 + b**2 = c**2```\n",
    "\n",
    "c is never even"
   ]
  },
  {
   "cell_type": "code",
   "execution_count": 3,
   "metadata": {},
   "outputs": [],
   "source": [
    "def pythagorean_triplet_test(a,b,c):\n",
    "    if math.gcd(a, b) != 1 or math.gcd(b, c) != 1 or math.gcd(a, c) != 1:\n",
    "        raise Exception(\"not co prime\")\n",
    "    \n",
    "    sum = a**2 + b**2\n",
    "\n",
    "    if sum == c**2:\n",
    "        return True\n",
    "    else:\n",
    "        return False"
   ]
  },
  {
   "cell_type": "code",
   "execution_count": 6,
   "metadata": {},
   "outputs": [
    {
     "name": "stdout",
     "output_type": "stream",
     "text": [
      "True\n",
      "False\n"
     ]
    }
   ],
   "source": [
    "print(pythagorean_triplet_test(3,4,5))\n",
    "print(pythagorean_triplet_test(1,2,3))"
   ]
  },
  {
   "cell_type": "code",
   "execution_count": 7,
   "metadata": {},
   "outputs": [
    {
     "ename": "SyntaxError",
     "evalue": "incomplete input (3933441788.py, line 2)",
     "output_type": "error",
     "traceback": [
      "\u001b[0;36m  Cell \u001b[0;32mIn[7], line 2\u001b[0;36m\u001b[0m\n\u001b[0;31m    def irrationality_proof(a,b):\u001b[0m\n\u001b[0m                                 ^\u001b[0m\n\u001b[0;31mSyntaxError\u001b[0m\u001b[0;31m:\u001b[0m incomplete input\n"
     ]
    }
   ],
   "source": [
    "# Assume 2^1/2 = a/b\n",
    "def irrationality_proof(a,b):\n",
    "    "
   ]
  },
  {
   "attachments": {},
   "cell_type": "markdown",
   "metadata": {},
   "source": [
    "GPT:\n",
    "\n",
    "This code generates the first ten primitive Pythagorean triples that have 2 as one of their legs. The proof shows that if the square root of 2 were rational, then there would be a Pythagorean triple with 2 as one of its legs. However, this code shows that there are no such triples."
   ]
  },
  {
   "cell_type": "code",
   "execution_count": 8,
   "metadata": {},
   "outputs": [
    {
     "name": "stdout",
     "output_type": "stream",
     "text": [
      "(3, 3, 4)\n",
      "(7, 7, 10)\n",
      "(17, 17, 24)\n",
      "(41, 41, 58)\n",
      "(99, 99, 140)\n",
      "(239, 239, 338)\n",
      "(577, 577, 816)\n",
      "(1393, 1393, 1970)\n",
      "(3363, 3363, 4756)\n",
      "(8119, 8119, 11482)\n"
     ]
    }
   ],
   "source": [
    "a = 2\n",
    "b = 1\n",
    "\n",
    "for i in range(10):\n",
    "    a, b = a + 2 * b, a + b\n",
    "    print((b, b, a))"
   ]
  }
 ],
 "metadata": {
  "kernelspec": {
   "display_name": "base",
   "language": "python",
   "name": "python3"
  },
  "language_info": {
   "codemirror_mode": {
    "name": "ipython",
    "version": 3
   },
   "file_extension": ".py",
   "mimetype": "text/x-python",
   "name": "python",
   "nbconvert_exporter": "python",
   "pygments_lexer": "ipython3",
   "version": "3.10.9"
  },
  "orig_nbformat": 4
 },
 "nbformat": 4,
 "nbformat_minor": 2
}
