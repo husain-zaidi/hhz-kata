{
 "cells": [
  {
   "cell_type": "code",
   "execution_count": 1,
   "metadata": {},
   "outputs": [
    {
     "name": "stdout",
     "output_type": "stream",
     "text": [
      "Hello maths\n"
     ]
    }
   ],
   "source": [
    "import math\n",
    "print(\"Hello maths\")"
   ]
  },
  {
   "attachments": {},
   "cell_type": "markdown",
   "metadata": {},
   "source": [
    "Pythagorean triplets:\n",
    "\n",
    "If a,b,c are coprime (have only 1 as a common divisor)\n",
    "\n",
    "```a**2 + b**2 = c**2```\n",
    "\n",
    "c is never even"
   ]
  },
  {
   "cell_type": "code",
   "execution_count": 3,
   "metadata": {},
   "outputs": [],
   "source": [
    "def pythagorean_triplet_test(a,b,c):\n",
    "    if math.gcd(a, b) != 1 or math.gcd(b, c) != 1 or math.gcd(a, c) != 1:\n",
    "        raise Exception(\"not co prime\")\n",
    "    \n",
    "    sum = a**2 + b**2\n",
    "\n",
    "    if sum == c**2:\n",
    "        return True\n",
    "    else:\n",
    "        return False"
   ]
  },
  {
   "cell_type": "code",
   "execution_count": 6,
   "metadata": {},
   "outputs": [
    {
     "name": "stdout",
     "output_type": "stream",
     "text": [
      "True\n",
      "False\n"
     ]
    }
   ],
   "source": [
    "print(pythagorean_triplet_test(3,4,5))\n",
    "print(pythagorean_triplet_test(1,2,3))"
   ]
  },
  {
   "cell_type": "code",
   "execution_count": 5,
   "metadata": {},
   "outputs": [
    {
     "data": {
      "text/latex": [
       "$\\displaystyle \\frac{a^{2}}{b^{2}} = 2$"
      ],
      "text/plain": [
       "Eq(a**2/b**2, 2)"
      ]
     },
     "execution_count": 5,
     "metadata": {},
     "output_type": "execute_result"
    }
   ],
   "source": [
    "# Lets use sympy\n",
    "import sympy as sym\n",
    "\n",
    "# Assume 2 = a^2/b^2\n",
    "a = sym.symbols('a')    \n",
    "b = sym.symbols('b')\n",
    "\n",
    "squareExpr = a ** 2 / b **2\n",
    "sym.Eq(squareExpr, 2)"
   ]
  },
  {
   "cell_type": "code",
   "execution_count": 6,
   "metadata": {},
   "outputs": [
    {
     "data": {
      "text/latex": [
       "$\\displaystyle 2 b^{2} = a^{2}$"
      ],
      "text/plain": [
       "Eq(2*b**2, a**2)"
      ]
     },
     "execution_count": 6,
     "metadata": {},
     "output_type": "execute_result"
    }
   ],
   "source": [
    "sym.Eq(b**2 + b**2, a**2)"
   ]
  },
  {
   "attachments": {},
   "cell_type": "markdown",
   "metadata": {},
   "source": [
    "This implies a is even, hence it is false"
   ]
  },
  {
   "attachments": {},
   "cell_type": "markdown",
   "metadata": {},
   "source": [
    "GPT:\n",
    "\n",
    "This code generates the first ten primitive Pythagorean triples that have 2 as one of their legs. The proof shows that if the square root of 2 were rational, then there would be a Pythagorean triple with 2 as one of its legs. However, this code shows that there are no such triples."
   ]
  },
  {
   "cell_type": "code",
   "execution_count": 8,
   "metadata": {},
   "outputs": [
    {
     "name": "stdout",
     "output_type": "stream",
     "text": [
      "(3, 3, 4)\n",
      "(7, 7, 10)\n",
      "(17, 17, 24)\n",
      "(41, 41, 58)\n",
      "(99, 99, 140)\n",
      "(239, 239, 338)\n",
      "(577, 577, 816)\n",
      "(1393, 1393, 1970)\n",
      "(3363, 3363, 4756)\n",
      "(8119, 8119, 11482)\n"
     ]
    }
   ],
   "source": [
    "a = 2\n",
    "b = 1\n",
    "\n",
    "for i in range(10):\n",
    "    a, b = a + 2 * b, a + b\n",
    "    print((b, b, a))"
   ]
  }
 ],
 "metadata": {
  "kernelspec": {
   "display_name": "base",
   "language": "python",
   "name": "python3"
  },
  "language_info": {
   "codemirror_mode": {
    "name": "ipython",
    "version": 3
   },
   "file_extension": ".py",
   "mimetype": "text/x-python",
   "name": "python",
   "nbconvert_exporter": "python",
   "pygments_lexer": "ipython3",
   "version": "3.10.9"
  },
  "orig_nbformat": 4
 },
 "nbformat": 4,
 "nbformat_minor": 2
}
